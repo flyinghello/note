{
 "cells": [
  {
   "cell_type": "code",
   "execution_count": null,
   "metadata": {
    "vscode": {
     "languageId": "sql"
    }
   },
   "outputs": [],
   "source": [
    "/****************************************************************************\n",
    "触发器\n",
    "    Instead of 触发器（事前触发器）\n",
    "    After 触发器（事后触发器）\n",
    "****************************************************************************/\n",
    "create trigger tri_InsertPeople\n",
    "insert into People(DepartmentId,PeopleName,PeopleSex,PeoplePhone)\n",
    "values('002','张飞','男','13698547125')\n",
    "\n",
    "--添加员工时候添加部门\n",
    "create trigger tri_InsertPeople on People after insert\n",
    "as\n",
    "    if exists(select * from Deparment where DepartmentId = )\n",
    "        insert into Deparment\n",
    "go"
   ]
  },
  {
   "cell_type": "code",
   "execution_count": null,
   "metadata": {
    "vscode": {
     "languageId": "sql"
    }
   },
   "outputs": [],
   "source": []
  }
 ],
 "metadata": {
  "language_info": {
   "name": "python"
  }
 },
 "nbformat": 4,
 "nbformat_minor": 2
}
