{
 "cells": [
  {
   "cell_type": "code",
   "execution_count": null,
   "metadata": {
    "vscode": {
     "languageId": "sql"
    }
   },
   "outputs": [],
   "source": [
    "/****************************************************************************\n",
    "触发器\n",
    "    Instead of 触发器（事前触发器）\n",
    "    After 触发器（事后触发器）\n",
    "****************************************************************************/\n",
    "create trigger tri_InsertPeople \n",
    "insert into People(DepartmentId,PeopleName,PeopleSex,PeoplePhone)\n",
    "values('002','张飞','男','13698547125')\n",
    "\n",
    "--添加员工时候需要顺便添加部门，因为没这个部门\n",
    "/*如果已经创建触发器，可以drop删除，也可以可以将create改成修改alter*/\n",
    "create trigger tri_InsertPeople on People after insert\n",
    "as\n",
    "    if not exists(select * from Deparment where DepartmentId = \n",
    "    (select DepartmentId from inserted))\n",
    "        begin\n",
    "            insert into Deparment(DepartmentId,DeparmentName)\n",
    "            values((select DepartmentId from inserted),'新部门')\n",
    "        end\n",
    "go\n",
    "\n",
    "--触发器实现，删除一个部门的时候将部下所有员工删除\n",
    "create trigger tri_DeleteDept on Deparment after Delete\n",
    "/*建立一个出发器在删除之后处触发，内容如下*/\n",
    "as\n",
    "    delete from People where DepartmentId = (select DeparmentId from deleted)\n",
    "go\n",
    "\n",
    "--测试\n",
    "delete from Deparment where DeparmentId = '006'\n",
    "\n",
    "--创建一个触发器，删除一个部门的时候判断是否有员工，有就不删除，没有就删除\n",
    "drop trigger tri_DeleteDept\n",
    "create trigger tri_DeleteDept on Department Instead  delete\n",
    "as\n",
    "    if not exists(select * from People where DeparmentId = \n",
    "    (select DeparmentId from deleted))\n",
    "        delete from DeparmentId where DeparmentId = (select Deparment from deleted) \n",
    "go\n",
    "\n",
    "--创建一个触发器，修改一个部门编号之后，将该部门下所有员工的部门编号同步进行修改\n",
    "create trigger tri_UpdateDept on Department after update\n",
    "as \n",
    "    update People set DepartmentId = (select DepartmentId from inserted)\n",
    "    where DepartmentId = (select DepartmentId from deleted)\n",
    "go\n",
    "\n",
    "/*触发器要谨慎使用，不要设置太多，可能会有连带反应，删除A，导致B也别删除，再导致C删除掉*/\n",
    "\n",
    "\n",
    "\n",
    "\n",
    "\n",
    "\n",
    "\n",
    "\n",
    "\n"
   ]
  },
  {
   "cell_type": "code",
   "execution_count": null,
   "metadata": {
    "vscode": {
     "languageId": "sql"
    }
   },
   "outputs": [],
   "source": []
  }
 ],
 "metadata": {
  "language_info": {
   "name": "python"
  }
 },
 "nbformat": 4,
 "nbformat_minor": 2
}
