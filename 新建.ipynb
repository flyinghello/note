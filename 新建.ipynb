{
 "cells": [
  {
   "cell_type": "code",
   "execution_count": null,
   "metadata": {
    "vscode": {
     "languageId": "sql"
    }
   },
   "outputs": [],
   "source": [
    "/*创建一个数据库*/\n",
    "if exists(select * from sys.databases where name='DBTEST')\n",
    "\tDROP DATABASE DBTEST\n",
    "CREATE Database DBTEST\n",
    "ON \n",
    "(\n",
    "\tname='DBTEST',\n",
    "\tfilename = 'D:\\BD\\DBTEST.mdf',\n",
    "\tsize = 5MB,\n",
    "\tfilegrowth = 2MB --可以写大小或百分比\n",
    ")\n",
    "log on \n",
    "(\n",
    "\tname='DBTEST._log',\n",
    "\tfilename = 'D:\\BD\\DBTEST_log.ldf',\n",
    "\tsize = 5MB,\n",
    "\tfilegrowth = 2MB\n",
    ")\n",
    "\n",
    "USE DBTEST\n",
    "--判断表是否存在，and type =‘U’表示表格\n",
    "if exists(select*from sys.objects where name='Department'and type='U')\n",
    "\tdrop table Department\n",
    "CREATE table DEPARTMENT\n",
    "(/*primary key表示设置主键\n",
    " identity（1,1）表示起点和步长*/\n",
    "\tID  int primary key identity(1,1),\n",
    "\tDPname nvarchar(50) not null,--不能为空\n",
    "\tDPremark text--描述\n",
    ")\n",
    "--char(10)无论多少都是占用10字节\n",
    "--varchar（10）最多占用10个字节，变长\n",
    "--text 长文本 长文本查询效率会减低\n",
    "/*前面的三种加上n，用unicode储存，用varchar（10）\n",
    "只能存储50汉字，用nvarchar（100）可存储100字母或100汉字*/\n",
    "\n",
    "\n",
    "\n",
    "create table [Rank]\n",
    "(\n",
    "\tRankID int primary key identity(1,1),\n",
    "\tRankName nvarchar(50) not null,\n",
    "\tRankRemark text\n",
    ")\n",
    "\n",
    "create table People\n",
    "(\n",
    "\tPeopleID  int  primary key identity(1,1) ,\n",
    "\tDepartmentID int references Department(ID) not null,\n",
    "\tPeopleName nvarchar(50) not null,\n",
    "\tPeopleSex nvarchar(1) check(PeopleSex='男' or PeopleSex='女')default('男'),\n",
    "\tPeopleBirth smalldatetime not null,\n",
    "\t/*date和dateTime区别是一个只有日期，一个是日期和时间，dateTime的时间\n",
    "\t可以浪费掉，这里是因为有一些版本没有date，smalldate表示时间是近几年*/\n",
    "\tPeopleSalary decimal(12,2)check(PeopleSalary>=1000 and PeopleSalary<=10000)not null,\n",
    "\t--这里可用float，但decimal精度更高，12为总长度，2为精度\n",
    "\tPeoplePhone varchar(20) unique not null,\n",
    "\t--unique表示唯一\n",
    "\tPeopleAddTime smalldatetime default(getdate())\n",
    "\t--在null补充当前时间\n",
    ")\n"
   ]
  }
 ],
 "metadata": {
  "language_info": {
   "name": "python"
  },
  "orig_nbformat": 4
 },
 "nbformat": 4,
 "nbformat_minor": 2
}
