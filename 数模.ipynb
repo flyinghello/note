{
 "cells": [
  {
   "cell_type": "code",
   "execution_count": null,
   "metadata": {
    "vscode": {
     "languageId": "sql"
    }
   },
   "outputs": [],
   "source": [
    "\n",
    "select [year],sum([value])point_values from charge \n",
    "where region ='China'\n",
    "group by [year]\n",
    "\n",
    "select [year],max(region)Country, parameter,powertrain,sum([value])sale_value\n",
    "from sales\n",
    "where region ='China' and parameter = 'EV sales'\n",
    "group by parameter ,[year],powertrain,region,category\n",
    "\n",
    "select [year],max(region)Country, parameter,powertrain,sum([value])sale_value\n",
    "from sales\n",
    "where region ='China'and(parameter ='EV sales share' or parameter ='EV stock share')\n",
    "group by parameter ,[year],powertrain,region,category\n",
    "\n",
    "\n",
    "SELECT *  \n",
    "FROM (  \n",
    "    SELECT [year], SUM([value]) AS point_values  \n",
    "    FROM charge  \n",
    "    WHERE region = 'China'  \n",
    "    GROUP BY [year]  \n",
    ") AS a  \n",
    "JOIN (  \n",
    "    SELECT [year], MAX(region) AS Country, parameter, powertrain, SUM([value]) AS sale_value  \n",
    "    FROM sales  \n",
    "    WHERE region = 'China' AND (parameter = 'EV sales' OR parameter = 'EV stock share')  \n",
    "    GROUP BY parameter, [year], powertrain, region, category  \n",
    ") AS b ON a.[year] = b.[year]  \n",
    "JOIN (  \n",
    "    SELECT [year], MAX(region) AS Country, parameter, powertrain, SUM([value]) AS sale_value  \n",
    "    FROM sales  \n",
    "    WHERE region = 'China' AND (parameter = 'EV sales share' OR parameter = 'EV stock share')  \n",
    "    GROUP BY parameter, [year], powertrain, region, category  \n",
    ") AS c ON a.[year] = c.[year];"
   ]
  }
 ],
 "metadata": {
  "language_info": {
   "name": "python"
  }
 },
 "nbformat": 4,
 "nbformat_minor": 2
}
