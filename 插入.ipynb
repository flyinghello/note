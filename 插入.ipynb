{
 "cells": [
  {
   "cell_type": "code",
   "execution_count": null,
   "metadata": {
    "vscode": {
     "languageId": "sql"
    }
   },
   "outputs": [],
   "source": [
    "/***************插入****************/\n",
    "--insert into 表名（...） values（...）\n",
    "insert into People(PeopleName,PeopleSex,PeopleSalary)\n",
    "values('Marry','girl','5000')\n",
    "/*没写入的就以null出现*/\n",
    "\n",
    "/*从某一表选择某些列插入新表*/\n",
    "SELECT Stu_name,Stu_sex,Class_id into Newtest FROM Student \n",
    "--这里不需要建一个新表，它会自动生成\n"
   ]
  },
  {
   "cell_type": "code",
   "execution_count": null,
   "metadata": {
    "vscode": {
     "languageId": "sql"
    }
   },
   "outputs": [],
   "source": [
    "/**********************更新*********************/\n",
    "update BankCard set CardMoney = CardMoney -1000 where CardNo = '65535'\n"
   ]
  }
 ],
 "metadata": {
  "language_info": {
   "name": "python"
  },
  "orig_nbformat": 4
 },
 "nbformat": 4,
 "nbformat_minor": 2
}
