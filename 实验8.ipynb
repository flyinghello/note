{
 "cells": [
  {
   "cell_type": "code",
   "execution_count": null,
   "metadata": {
    "vscode": {
     "languageId": "sql"
    }
   },
   "outputs": [],
   "source": [
    "/******************实验八*********************/\n",
    "\n",
    "--1.新开设一门课程“网络安全与防火墙”，40学时，编号“0118”，主要介绍网络安全与防火墙软件\n",
    "\n",
    "Insert into Course  (course_name,course_hour,course_id,Introduce) \n",
    "values('网络安全与防火墙',40,'C0118','主要介绍网络安全与防火墙软件')\n",
    "\n",
    "\n",
    "\n",
    "--2.先建立monitor表，其结构与student表大致一样，包含student表的学号、姓名、性别、班级编号，然后把各班级班长的个人信息插入到monitor表中\n",
    "\n",
    "create table monitor (\n",
    "Stu_id varchar(10) Not null primary key,\n",
    "Stu_name nvarchar(5) Not null,\n",
    "Stu_sex nvarchar(1) Not null default '男',\n",
    "Class_id varchar(10) Not null\n",
    ")\n",
    "\n",
    "Insert into monitor (Stu_id,Stu_name,Stu_sex,Class_id)\n",
    "select Stu_id,Stu_name,Stu_sex,class.Class_id from class inner join Student on Monitor = Stu_id  \n",
    "\n",
    "--3.更新所有职称为“助教”的教师职称为“助理教师”。\n",
    "Update teacher set  techpost = '助理教师' where techpost ='助教'\n",
    "\n",
    "--4、在所有经济系班级的名称前加上“经济系”三个字。（class上的触发器可能造成不能正确更新）\n",
    "\n",
    "Update Class set Class_name = '经济系'  where Depar_id = (select\n",
    "Depar_id from Deparment where Depar_name = '经济系')\n",
    "\n",
    "\n",
    "--5、学号为“130101005”的学生的“数据结构”课程成绩改为80分。\n",
    "Update StudentGrade set grade=80 where Stu_id = 13010100\n",
    "\n",
    "--6、删除studentgrade表中所有成绩不及格的记录。\n",
    "Delete  from  StudentGrade where grade <60\n",
    "\n",
    "--7、删除studentgrade表中学号以“15”开头的学生选修课程的记录。\n",
    "Delete from StudentGrade where Stu_id like '15%'\n",
    "\n",
    "\n",
    "--8、删除课程名为“C语言”的课程信息和所有这门课的选课信息。（不用级联删除，因级联需在创建表时定义。）\n",
    "Delete StudentGrade from StudentGrade sg,Course c\n",
    "where c.course_name like '%C语言%' AND c.course_id = sg.Course_id\n",
    "Delete course \n",
    "from Course\n",
    "where Course_name like '%C语言%'\n",
    "\n",
    "--9、把数据库中学生表学号为“130101005”的学生的学号改为“130101006”，请关注是否能修改成功。为什么？\n",
    "Update Student set Stu_id = 130101006 where Stu_id = 200101990 \n",
    "--不行，因为学号作为StudentGrade的外键，不能被修改"
   ]
  }
 ],
 "metadata": {
  "language_info": {
   "name": "python"
  }
 },
 "nbformat": 4,
 "nbformat_minor": 2
}
