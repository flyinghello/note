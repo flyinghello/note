{
 "cells": [
  {
   "cell_type": "code",
   "execution_count": null,
   "metadata": {
    "vscode": {
     "languageId": "sql"
    }
   },
   "outputs": [],
   "source": [
    "/***************************\n",
    "表关系：一对一，一对多，多对多\n",
    "****************************/\n",
    "\n",
    "--一对多，在多的那个表添加一个外键\n",
    "creat table Profession --专业表\n",
    "(\n",
    "    ProId int primary key  identity(1,1),  --专业编号\n",
    "    ProName varchar(50) not null           --专业名称\n",
    ")\n",
    "\n",
    "creat table Student   --学生表\n",
    "(\n",
    "    Stu_id int primary key identity(1,1),\n",
    "    ProId int not null ,             --专业编号（此字段用于关联专业表）\n",
    "    Stu_name varchar(50) not null, \n",
    "    Stu_sex varchar(2) not null       \n",
    ")\n"
   ]
  }
 ],
 "metadata": {
  "language_info": {
   "name": "python"
  }
 },
 "nbformat": 4,
 "nbformat_minor": 2
}
