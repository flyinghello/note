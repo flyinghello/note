{
 "cells": [
  {
   "cell_type": "code",
   "execution_count": null,
   "metadata": {
    "vscode": {
     "languageId": "sql"
    }
   },
   "outputs": [],
   "source": [
    "/*****************实验六******************/\n",
    "\n",
    "--1.统计年龄大于30岁的学生人数 （找不到，设置年龄太大了，20）\n",
    "select Count(*) from Student \n",
    "\twhere year(getdate())-year(birthdate) >20\n",
    "\n",
    "--2.统计数据结构有80分以及以上的人数\n",
    "select Count(*) from StudentGrade\n",
    "\twhere Grade>80 and Course_id = (select Course_id \n",
    "\t\tfrom Course\n",
    "\t\twhere Course_name='数据结构')\n",
    "\n",
    "--3.查询“0203”课程的 最高分的学生学号（压根没选这门课的，C0102）\n",
    "--方法一\n",
    "select top 1 stu_id from StudentGrade \n",
    "\twhere Course_id ='C0102'\n",
    "\torder by Grade \n",
    "--方法二///*****未完成...\n",
    "select stu_id,Course_id,grade \n",
    "from StudentGrade\n",
    "where  grade in (select max(grade) from StudentGrade\n",
    "\t\t\t\t\t\twhere Course_id = 'C0102')\n",
    "and Course_id = 'C0102'\n",
    "\n",
    "--4.统计各系开设的班级的数目（系名称、班级数目）并创建结果表（考虑没有班级的系）\n",
    "select Class.Depar_id,max(Depar_name) 系名称,count(Class_id)\n",
    "from Class right outer join Deparment \n",
    "\ton Class.Depar_id = Deparment.Depar_id\n",
    "\tgroup by Class.Depar_id \n",
    "    \n",
    "\n",
    "--5.统计各门课程的选修人数,并按人数降序排序，找出排名前三（top 3 没办法考虑并列问题）\n",
    "select Course_id from StudentGrade\n",
    "\tgroup by Course_id \n",
    "\thaving count(stu_id)in(select\n",
    "\t\ttop 3 count(stu_id) from StudentGrade \n",
    "\t\tgroup by Course_id)\n",
    "\n",
    "--6.统计每科目的最高分、最低分、平均数、总分，并以中文列名显示\n",
    "select course_id 课程号,max(grade)最高分,min(grade)最低分,avg(grade)平均分,sum(grade)总分 from StudentGrade\n",
    "group by Course_id\n",
    "\n",
    "--7.查询所有70分以上的学生姓名（使用子查询，需要考虑未选课的学生）\n",
    "/*这个要有逆向思维，全>70,比较难找，就找不能包含有<70的*/\n",
    "/*这里还要考虑没有选课的同学，即成绩为null*/\n",
    "select stu_name from student where stu_id not in \n",
    "\t(select stu_id from StudentGrade \n",
    "\twhere Grade <70 or grade= Null)\n",
    "\n",
    "--8.“数据库”课程得分最高的学生学号，姓名和所在系\n",
    "--未完成...\n",
    "select Student.stu_id, stu_name, Depar_name from student\n",
    "\t\tinner join Class on Class.Class_id = Student.Class_id\n",
    "\t\tinner join Deparment on Deparment.Depar_id=Class.Depar_id\t\t\n",
    "where Student.stu_id =(select stu_id from studentgrade\n",
    "\tinner join course on studentGrade.Course_id=Course.course_id\n",
    "\twhere Course_name like '%数据库%' and grade =(select max(grade)\n",
    "\t\tfrom studentGrade where Course_name like '%数据库%'))\n",
    "\t\t\n",
    "\n",
    "--9.至少选修了两门课以及以上的学生姓名和性别\n",
    "select stu_name,stu_sex from student \n",
    "where stu_id in (select stu_id from StudentGrade\n",
    "\tgroup by stu_id having count(stu_id)>=2 )\n",
    "\t\n",
    "\t"
   ]
  }
 ],
 "metadata": {
  "language_info": {
   "name": "python"
  }
 },
 "nbformat": 4,
 "nbformat_minor": 2
}
