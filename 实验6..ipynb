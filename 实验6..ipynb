{
 "cells": [
  {
   "cell_type": "code",
   "execution_count": null,
   "metadata": {
    "vscode": {
     "languageId": "sql"
    }
   },
   "outputs": [],
   "source": [
    "/*****************实验六******************/\n",
    "\n",
    "--1.统计年龄大于30岁的学生人数 （找不到，设置年龄太大了，20）\n",
    "select Count(*) from Student \n",
    "\twhere year(getdate())-year(birthdate) >20\n",
    "\n",
    "--2.统计数据结构有80分以及以上的人数\n",
    "select Count(*) from StudentGrade\n",
    "\twhere Grade>80 and Course_id = (select Course_id \n",
    "\t\tfrom Course\n",
    "\t\twhere Course_name='数据结构')\n",
    "\n",
    "--3.查询“0203”课程的 最高分的学生学号（压根没选这门课的，C0102）\n",
    "--方法一\n",
    "select top 1 stu_id from StudentGrade \n",
    "\twhere Course_id ='C0102'\n",
    "\torder by Grade \n",
    "--方法二///*****未完成...\n",
    "select stu_id,Course_id,grade \n",
    "from StudentGrade\n",
    "where  grade in (select max(grade) from StudentGrade\n",
    "\t\t\t\t\t\twhere Course_id = 'C0102')\n",
    "and Course_id = 'C0102'\n",
    "\n",
    "--4.统计各系开设的班级的数目（系名称、班级数目）并创建结果表（考虑没有班级的系）\n",
    "select Class.Depar_id,Depar_name,count(Class_id)\n",
    "from Class inner join Deparment \n",
    "\ton Class.Depar_id = Deparment.Depar_id\n",
    "    join \n",
    "\n",
    "select count(Class_id) from class"
   ]
  }
 ],
 "metadata": {
  "language_info": {
   "name": "python"
  }
 },
 "nbformat": 4,
 "nbformat_minor": 2
}
