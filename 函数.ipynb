{
 "cells": [
  {
   "cell_type": "code",
   "execution_count": null,
   "metadata": {
    "vscode": {
     "languageId": "sql"
    }
   },
   "outputs": [],
   "source": [
    "/***************************\n",
    "编写自定义函数：\n",
    "    标量值函数（返回但当个值）\n",
    "    表值函数（返回一个查询结果）\n",
    "****************************/\n",
    "\n",
    "--select Sum(CardMoney) form BankCard\n",
    "--编写一个函数，求银行金额的总和\n",
    "create function GetSumMoney()/*传入参数*/ returns money --返回值 注意是returns\n",
    "as\n",
    "begin \n",
    "    declare @sum money\n",
    "    select @sum = Sum(CardMoney) from BankCard\n",
    "    return @sum \n",
    "end \n",
    "--函数的调用\n",
    "select dbo.GetSumMoney() --用select展示出来\n",
    "\n",
    "--传入账户的编号，返回用户名\n",
    "create function GetRealNameById(@accid int) returns varchar(30)\n",
    "as\n",
    "begin\n",
    "    declare @name varchar(30)\n",
    "    select RealName from AccountInifo where AccountId = @accid\n",
    "    return @name\n",
    "end\n",
    "\n",
    "select dbo.GetRealNameById(2)\n",
    "\n",
    "--传递开始和结束时间，返回交易记录（存钱和取钱）返回表\n",
    "--方案一\n",
    "create function GetRecordByTime(@start varchar(30),@end varchar(30))\n",
    "returns @result table --return 是这个查询结果的名字，建查询结果给这个result\n",
    "(\n",
    "    /*这里是建立表的结构，就像建立一个新表一样*/\n",
    "    RealName varchar(20),\n",
    "    CardNo varchar(30),\n",
    "    MoneyInBank money,\n",
    "    MoneyOutBank money,\n",
    "    ExchangeTime smalldatetime \n",
    ")\n",
    "as \n",
    "begin \n",
    "    insert into @result --像我们上面结构的表添加数据，数据为下面查询的数据\n",
    "    select RealName 姓名, CardExchange.CardNo 卡号,MoneyInBank 存钱金额,MoneyOutBank 取钱金额\n",
    "    ExchangeTime 交易时间  from CardExchange \n",
    "    inner join BankCard on CardExchange.cardNo = BankCard.cardNo\n",
    "    inner join AccountInifo on BankCard.AccountId = AccountInifo.AccountID\n",
    "    where ExchangeTime between @start+'00:00:00' and @end+'23:59:59' \n",
    "    return  --作为一个返回值返回\n",
    "end\n",
    "\n",
    "--调用函数，这里要用select *，因为函数返回结果是一个表\n",
    "select * from GetRecordByTime('2022-1-1','2022-5-6')\n",
    "\n",
    "--方案二\n",
    "/*不规定返回的表结构直接将查询结果返回*/\n",
    "create function GetRecordByTime(@start varchar(30),@end varchar(30))\n",
    "return table\n",
    "as  \n",
    "    return \n",
    "    select RealName 姓名, CardExchange.CardNo 卡号,MoneyInBank 存钱金额,MoneyOutBank 取钱金额\n",
    "    ExchangeTime 交易时间  from CardExchange \n",
    "    inner join BankCard on CardExchange.cardNo = BankCard.cardNo\n",
    "    inner join AccountInifo on BankCard.AccountId = AccountInifo.AccountID\n",
    "    where ExchangeTime between @start+'00:00:00' and @end+'23:59:59' \n",
    "go\n",
    "\n",
    "/*方案二使用局限性：函数体内只能有return+sql查询结果（里面不能创建变量），不能处理复杂逻辑*/\n"
   ]
  },
  {
   "cell_type": "code",
   "execution_count": null,
   "metadata": {
    "vscode": {
     "languageId": "sql"
    }
   },
   "outputs": [],
   "source": []
  }
 ],
 "metadata": {
  "language_info": {
   "name": "python"
  }
 },
 "nbformat": 4,
 "nbformat_minor": 2
}
