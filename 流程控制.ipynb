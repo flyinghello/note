{
 "cells": [
  {
   "cell_type": "code",
   "execution_count": null,
   "metadata": {
    "vscode": {
     "languageId": "sql"
    }
   },
   "outputs": [],
   "source": [
    "/**********************************************************\n",
    "流程控制\n",
    "    1选择分支结构\n",
    "***********************************************************/"
   ]
  },
  {
   "cell_type": "code",
   "execution_count": null,
   "metadata": {
    "vscode": {
     "languageId": "sql"
    }
   },
   "outputs": [],
   "source": [
    "--if...else...\n",
    "/*取钱操作，取5000，有则取，没有则提示*/\n",
    "\n",
    "declare @balance Money  --money是数据类型\n",
    "select @balance = \n",
    "(select CardMoney from BankCard where CardNo = '65284556226655142')\n",
    "if @balance >=5000\n",
    "    begin \n",
    "        update BankCard set CardMoney = CardMoney-5000\n",
    "        where CardNo = '65284556226655142'\n",
    "\n",
    "        insert into CardExchange (CardNo ,MoneyInBank,ExchangeTime)\n",
    "        values('65284556226655142',0,5000,getdate())\n",
    "    end \n",
    "else \n",
    "    begin \n",
    "        print '余额不足'\n",
    "    end "
   ]
  },
  {
   "cell_type": "code",
   "execution_count": null,
   "metadata": {
    "vscode": {
     "languageId": "sql"
    }
   },
   "outputs": [],
   "source": [
    "--case...when...\n",
    "\n",
    "/*查询银行卡的信息，将状态字段转化为汉字，根据余额显示银行卡等级*/\n",
    "select CardNo 卡号,AccountCode身份证号,RealName姓名,CardMoney存款 from BankCard\n",
    "inner join AccountInfo on BankCard.AccountID = AccountInfo.AccountID\n",
    "case\n",
    "    when CardMoney>=300000 then 'VIP'\n",
    "    else '普通用户'\n",
    "end 用户等级\n",
    "case CardState\n",
    "    when 1 then '正常',         --前面是范围判断，不能这么写\n",
    "    when 2 then '挂失',\n",
    "    when 3 then '注销',\n",
    "    when 4 then '冻结',\n",
    "    else '异常'\n",
    "end 银行卡状态\n",
    "\n",
    "--一般if...else 用于增加修改，when...then... 用于查询"
   ]
  },
  {
   "cell_type": "code",
   "execution_count": null,
   "metadata": {
    "vscode": {
     "languageId": "sql"
    }
   },
   "outputs": [],
   "source": [
    "/*\n",
    "循环结构（while）,char(9)表示制表符，char(10)表示换行符\n",
    "将内容传入一个字符串里面，再打印出来\n",
    "*/\n",
    "--循环打印1~10\n",
    "declare @i int = 1\n",
    "while @i<=10\n",
    "begin\n",
    "    print @i\n",
    "    set @i=@i+1\n",
    "end\n",
    "\n",
    "--循环打印9*9乘法表\n",
    "declare @i int = 1\n",
    "while @i<=9\n",
    "    begin\n",
    "        declare @str varchar(1000)=''\n",
    "        declare @j int =i\n",
    "        while @j <= @i\n",
    "            begin\n",
    "                set @str =@str+case(@i as varchar(1))+'*'+case(@j as varchar(1))+'='+\n",
    "                cast(@i*@j,as varchar(2))+'char(9)'\n",
    "\n",
    "                set @j = @j+1\n",
    "            end \n",
    "        set @i =@i+1\n",
    "        print '@str'\n",
    "    end"
   ]
  }
 ],
 "metadata": {
  "language_info": {
   "name": "python"
  }
 },
 "nbformat": 4,
 "nbformat_minor": 2
}
