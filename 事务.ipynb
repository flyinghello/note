{
 "cells": [
  {
   "cell_type": "code",
   "execution_count": null,
   "metadata": {
    "vscode": {
     "languageId": "sql"
    }
   },
   "outputs": [],
   "source": [
    "/*事务*/\n",
    "--添加约束\n",
    "/*\n",
    "alter table BankCard add constrain ck_money check(CardMoney>=0)\n",
    "*/\n",
    "\n",
    "/*刘备取款6000，(添加Check约束，设置账户余额必须>=0)，\n",
    "要求：使用事务实现修余额和添加取款记录两部操作使用事务*/\n",
    "begin transaction \n",
    "declare @myError int = 0\n",
    "update Bankcard set cardMoney = CardMoney - 6000 where CardNo = '65535'\n",
    "set @myerror = @@error +@myerror\n",
    "insert into CardExchange(CardNo,MoneyInbank,MoneyOutBank,ExchangeTime)\n",
    "values('65535',0,6000,getDate())\n",
    "set @myerror = @@error +@myerror\n",
    "if @myError =0\n",
    "    begin\n",
    "        commit transaction\n",
    "        print'success'\n",
    "    end\n",
    "else\n",
    "    begin \n",
    "        rollback transaction\n",
    "        print'Error'\n",
    "    end\n",
    "\n",
    "\n",
    "\n",
    "/*假设刘备向张飞转账1000元，（添加Check约束，设置账户余额必须>=0）*/\n",
    "/*\n",
    "步骤分析：\n",
    "    1.张飞添加1000元\n",
    "    2.刘备扣除1000元\n",
    "    3.生成转账记录\n",
    "*/\n",
    "begin transaction\n",
    "declare @myError int = 0\n",
    "update BankCard set CardMoney = CardMoney +1000 where CardNo ='65535' \n",
    "set @myerror = @@error + @myerror \n",
    "update BankCard set CardMoney = CardMoney -1000 where CardNo = '65536'\n",
    "set @myerror = @@error + @myError\n",
    "insert into CardExchange (CardNoout,CardNoin,transferMoney,transferMoney,TransferTime)\n",
    "values('65535','65536',1000,getDate())\n",
    "set @myerror = @error +@@myerror\n",
    "if @myerror =0\n",
    "    begin\n",
    "        commit transaction\n",
    "    end\n",
    "else\n",
    "    begin\n",
    "        rollback transaction\n",
    "    end"
   ]
  }
 ],
 "metadata": {
  "language_info": {
   "name": "python"
  }
 },
 "nbformat": 4,
 "nbformat_minor": 2
}
