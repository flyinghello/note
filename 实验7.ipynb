{
 "cells": [
  {
   "cell_type": "code",
   "execution_count": null,
   "metadata": {
    "vscode": {
     "languageId": "sql"
    }
   },
   "outputs": [],
   "source": [
    "/**************************实验七*************************/\n",
    "--1.检索至少选修“数据结构”和“C语言”的学生学号\n",
    "select distinct A.stu_id from StudentGrade A,StudentGrade B \n",
    "where exists (select * from Course A,Course B  \n",
    "\twhere  A.Course_name  like '%数据结构%' and B.Course_name  like '%数据库%')\n",
    "--2.列出所有班名、班主任、班长、系名。（连接查询，进一步考虑外连接，有的班级没有班长，需要考虑所有班级信息）\n",
    "select class_name ,  from \n",
    "--3.查询选修了“数据结构”这门课程的同学的所有选课情况，结果列包含学号、姓名、课程号、课程名\n",
    "select Stu_id, Stu_name,Course_id,Course_name from StudentGrade inner join Student on stu_id\n",
    "\tinner join Course on Course_id where Course_name like '%数据结构%' \n",
    "--4.查询选课最多的学生成绩排名，结果列包含学号姓名，选修课程号，课程名，排名情况\n",
    "select Stu_id,Course_id, Course_name,Rank()over(partition by Course_id order by grade) 排名 \n",
    "from Student inner join StudentGrade on stu_id \n",
    "\tinner join Course on Course_id \n",
    "\t\n",
    "\n",
    "--5.查询选修了所有课程的学生信息，请用两种方法\n",
    "--6.查询选修了苏贤兴同学所选的课程学生信息\n",
    "--7.查询没有学生选的课程信息。请用两种解法"
   ]
  }
 ],
 "metadata": {
  "language_info": {
   "name": "python"
  }
 },
 "nbformat": 4,
 "nbformat_minor": 2
}
