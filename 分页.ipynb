{
 "cells": [
  {
   "cell_type": "code",
   "execution_count": null,
   "metadata": {
    "vscode": {
     "languageId": "sql"
    }
   },
   "outputs": [],
   "source": [
    "--分页\n",
    "/*假设每一页有五条数据*/\n",
    "--第一页\n",
    "select top 5 *from student\n",
    "--第二页\n",
    "select top 5 *from Student where Stu_id not in (select top 5 Stu_id from Studnet)\n",
    "\n",
    "/*\n",
    "select top 页码大小 * from student\n",
    "where Stu_id not in (select top 页码大小*（当前页-1）Stu_id from Student)\n",
    "*/\n",
    "\n",
    "--分页方案一\n",
    "declare @PageSize int =5\n",
    "declare @PageIndex int =1\n",
    "select top (@PageSize) * from Student  --top后面如果是变量要用括号括起来\n",
    "where Stu_id not in (select top @PageIndex*@PageSize Stu_id from Student)\n",
    "\n",
    "--分页方案二：使用row_number分页\n",
    "/*\n",
    "select(\n",
    "    select Row_number() over (order by Stu_id)Row_id, * from )Temp \n",
    "where Row_id between (当前页码-1)*页码大小+1 and 当前页*页码大小\n",
    "*/\n",
    "\n"
   ]
  },
  {
   "cell_type": "code",
   "execution_count": null,
   "metadata": {
    "vscode": {
     "languageId": "sql"
    }
   },
   "outputs": [],
   "source": [
    "WHILE(条件)\n",
    "    begin\n",
    "        语句1\n",
    "        语句2\n",
    "        break\n",
    "    end"
   ]
  }
 ],
 "metadata": {
  "language_info": {
   "name": "python"
  }
 },
 "nbformat": 4,
 "nbformat_minor": 2
}
