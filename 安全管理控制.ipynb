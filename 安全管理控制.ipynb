{
 "cells": [
  {
   "cell_type": "code",
   "execution_count": null,
   "metadata": {
    "vscode": {
     "languageId": "sql"
    }
   },
   "outputs": [],
   "source": [
    "/*授权*/\n",
    "\n",
    "--授权查询\n",
    "grant select \n",
    "on Student\n",
    "to U1;\n",
    "--授权所有权限\n",
    "Grant all privileges \n",
    "on Student,Course\n",
    "to U2,U3;\n",
    "--授权查询\n",
    "grant select \n",
    "on sc \n",
    "to public\n",
    "--授权更新,查询\n",
    "grant update(Sno),select \n",
    "on Student\n",
    "to U4;\n",
    "\n",
    "--允许授权后再授权\n",
    "grant insert\n",
    "on sc \n",
    "to U5\n",
    "with grant option\n",
    "\n",
    "/*撤销权限*/\n",
    "--撤销权限\n",
    "revoke update(Sno)\n",
    "on student \n",
    "from U4\n",
    "--级联收回\n",
    "revoke insert\n",
    "on Student \n",
    "from U4 cascade\n",
    "\n",
    "\n",
    "/*禁止某项权限*/\n",
    "deny select(studentid)\n",
    "on student\n",
    "to U1\n",
    "cascade\n",
    "\n",
    "/*revoke是撤销某项权限，而deny是禁止用户对某个对象的某种操作*/\n",
    "\n",
    "\n",
    "\n",
    "\n"
   ]
  }
 ],
 "metadata": {
  "language_info": {
   "name": "python"
  }
 },
 "nbformat": 4,
 "nbformat_minor": 2
}
