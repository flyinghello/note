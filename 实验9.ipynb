{
 "cells": [
  {
   "cell_type": "code",
   "execution_count": null,
   "metadata": {
    "vscode": {
     "languageId": "sql"
    }
   },
   "outputs": [],
   "source": [
    "/*************************************************************************\n",
    "实验9 视图创建\n",
    "**************************************************************************/\n",
    "--1．建立一视图View_CSTeacher，列出计算机系各个老师的资料(姓名、性别、职称)\n",
    "Create view View_CSTeacher(姓名,性别,职称)\n",
    "as \n",
    "Select Teac_name ,Teac_sex,TechPost from Teacher   \n",
    "\n",
    "--2．建立一视图View_Class，列出每个班级的名称、系别和班级人数。\n",
    "Create view Viwe_Class(班级名称,系别,班级人数)\n",
    "as\n",
    "Select Class_name,Depar_name,Class_num from Class\n",
    "inner join Deparment on Class.Depar_id = Deparment.Depar_id\n",
    "\n",
    "--3．建立一视图View_Student，列出每个学生的学号、选修课程门数和平均成绩，并按平均成绩从大到小排列。（体验在视图中使用order by。注意观察视图中数据是否实现按成绩排序？为什么？）\n",
    "/*成绩中有None不会导致视图创建失败，他会自动将值忽视，求非空值*/\n",
    "Update StudentGrade \n",
    "set Grade = 60 where grade =Null\n",
    "\n",
    "Create view View_Student\n",
    "as \n",
    "Select Stu_id,Count(course_id) 课程数目,avg(grade)平均成绩 from StudentGrade group by Stu_id\n",
    "/*这里一定要加列名不然会报错*/\n",
    "\n",
    "--4．查询视图View_Student中的所有信息。\n",
    "Select * from View_Student\n",
    "\n",
    "--5．修改视图View_Student（修改视图定义），列出每个学生的学号、姓名、选修课程门数和平均成绩。\n",
    "Alter View View_Student \n",
    "As\n",
    "Select S.Stu_id ,Stu_name,count(Course_id) AS 选修门数,avg(grade)平均成绩 from Student S\n",
    "inner join StudentGrade SG on S.Stu_id = SG.Stu_id\n",
    "Group by S.Stu_id,Stu_name\n",
    "\n",
    "--6．要通过视图View_Student，将学号为“130203002”的平均成绩改为90分，是否可以实现？并说明原因\n",
    "Update View_Student \n",
    "set 平均成绩=90\n",
    "from View_Student \n",
    "where stu_id = '130203002'\n",
    "/*视图是不能修改的，他只是一个虚拟表，修改是实际上是基础表*/\n",
    "/*这里的from可也写也可以不写，不写的话就是默从当前表获取数据，如果是跨表的话就需要用from\n",
    "例如：\n",
    "    Update View_Student \n",
    "    set 平均成绩=90\n",
    "    from View_StudentGrade \n",
    "    where stu_id = '130203002'\n",
    "这里是通过如下命令：跟新View_Student视图数据，这个数据来自View_StudentGrade中，stu_id为'130203002'\n",
    "的那一行，将平均成绩改为90。*/\n",
    "\n",
    "--7.删除视图View_CSTeacher。\n",
    "Drop view View_CS\n",
    "\n",
    "--8.建一视图View_Studentnum，列出每个班级信息以及班级人数。\n",
    "CREATE VIEW View_Studentnum\n",
    "AS\n",
    "SELECT c.class_id,c.class_name,c.Director, c.Monitor,c.depar_id,count(s.Stu_id) as 学生人数\n",
    "FROM Class c,Student s\n",
    "WHERE c.Class_id=s.Class_id\n",
    "GROUP BY c.Class_id,c.Class_name,c.Depar_id,c.Director,c.Monitor\n"
   ]
  }
 ],
 "metadata": {
  "language_info": {
   "name": "python"
  }
 },
 "nbformat": 4,
 "nbformat_minor": 2
}
