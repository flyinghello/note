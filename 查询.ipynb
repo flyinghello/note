{
 "cells": [
  {
   "cell_type": "markdown",
   "metadata": {},
   "source": [
    "---------------------目录-------------------------\n",
    "1.查询\n",
    "2.运算符条件查询\n",
    "3.排序\n",
    "4.特殊值选取\n",
    "5.模糊查询\n",
    "6.聚合函数\n",
    "7.分组查询\n",
    "8.多表查询\n",
    "---------------------------------------------------"
   ]
  },
  {
   "cell_type": "code",
   "execution_count": null,
   "metadata": {
    "vscode": {
     "languageId": "sql"
    }
   },
   "outputs": [],
   "source": [
    "/******************1.查询******************/\n",
    "/********函数之间是可以相互嵌套的**********/\n",
    "--查询表所有行、列\n",
    "--这里后面不带where就是所有行,*表示所有列\n",
    "select * from Department [where city =='Beijing']\n",
    "\n",
    "--只查询（姓名、性别、电话）\n",
    "select PeopleName,PeopleSex,PeoplePhone from PeopleName \n",
    "--只查询（姓名、性别、电话）并把列明翻译成中文名，空格取别名，不修改列名\n",
    "select PeopleName 姓名,PeopleSex 性别,PeoplePhone 电话 from PeopleName \n",
    "\n",
    "--distinct()  查询出员工所在城市(不需要重复城市)\n",
    "select distinct (PeopleAdress) from People \n",
    "/*distinct()是清除重复的数据的函数*/\n",
    "\n",
    "--假设准备加工资(上调20%)，查询出加工资后的员工数据\n",
    "select PeopleName,PeopleSalary*1.2 from People\n",
    "\n",
    "/*查询出加工资前后对比*/--添加了一列\n",
    "select PeopleName,PeopleSalary,PeopleSalary*1.2  from People\n",
    "select *,PeopleSalary*1.2 from People"
   ]
  },
  {
   "cell_type": "code",
   "execution_count": null,
   "metadata": {
    "vscode": {
     "languageId": "sql"
    }
   },
   "outputs": [],
   "source": [
    "/*****************2.运算符条件查询*******************/\n",
    "select * from People \n",
    "--where  查询性别为女的员工\n",
    "select * from People where PeopleSex ='女'\n",
    "\n",
    "--><=    查询工资大于1000\n",
    "select * from People where PeopleSalary>10000\n",
    "\n",
    "--and    多条件查询 \n",
    "select * from People where PeopleSex = '女' and PeopleSalary>10000\n",
    "\n",
    "--or     或条件查询\n",
    "select * from People where PeopleSalary>10000 or (PeopleSalary<800 and PeopleSex='女' and PeopleBirth>='1980-1-1')\n",
    "-----------------这里的日期可以不输入时间，不输入默认为00:00:00,所以一般不写 “ = ”\n",
    "\n",
    "--and 或 between and 区间查询\n",
    "select * from People where PeopleSalary>10000 and PeopleSalary<20000\n",
    "select * from People where between 10000 and 20000\n",
    "\n",
    "--in   多or查询\n",
    "select * from People where PeopleAdress in ['武汉','北京']"
   ]
  },
  {
   "cell_type": "code",
   "execution_count": null,
   "metadata": {
    "vscode": {
     "languageId": "sql"
    }
   },
   "outputs": [],
   "source": [
    "/*********************3.排序*************************/\n",
    "--order by 根据什么来排序\n",
    "--asc 升序(默认)，desc 降序\n",
    "select * People order by PeopleSalary asc\n",
    "\n",
    "--len()计算长度\n",
    "select * People order by len(PeopleName)\n",
    "\n",
    "--top 5表示只取出前5\n",
    "--top 10 percent  给出前10%\n",
    "select top 5 * from People order by PeopleSalary\n",
    "\n",
    "--null 查询用 is\n",
    "select * from People where PeopleAdress is null\n",
    "select * from People where PeopleAdress is not null\n",
    "/*空值与空字符串不同*/\n"
   ]
  },
  {
   "cell_type": "code",
   "execution_count": null,
   "metadata": {
    "vscode": {
     "languageId": "sql"
    }
   },
   "outputs": [],
   "source": [
    "/******************4.特殊值选取********************/\n",
    "--year(PeopleBirth)获取出生年份\n",
    "/*选出80后的人*/\n",
    "select * from People where year(PeopleBirth) bewteen 1980 and 1989\n",
    "\n",
    "--month(PeopleBirth)获取出生月份\n",
    "select * from People where month(PeopleBirth) bewteen 2 and 6\n",
    "\n",
    "--getdate()取出当前时间\n",
    "/*年龄大于40岁的人*/\n",
    "select * from People where year(getdate()) -year(PeopleBirth)<=40\n",
    "\n",
    "--个体比较查询（子查询、嵌套查询）\n",
    "/*找出工资比赵云高的人*/\n",
    "select * from People where PeopleSalary>(select PeopleSalary from People where PeopleName='赵云')\n",
    "\n",
    "--数值运算查询\n",
    "/*查出属猴的人*//*属猴的人出生年份%12=0*/--2004%12=0\n",
    "select * from People where year(PeopleBirth)%12=0\n",
    "\n",
    "\n",
    "/******选择判断语句,类似与if else**********\n",
    "case\n",
    "    when ... then ...\n",
    "    when ... then ...\n",
    "    when ... then ...\n",
    "    else ...\n",
    "end 别名\n",
    "*****************************************/\n",
    "/*输出一列来记录人员的生肖*/\n",
    "select *, \n",
    "case \n",
    "    when  year(PeopleBirth)%12=4 then '鼠'\n",
    "    when  year(PeopleBirth)%12=5 then '牛'\n",
    "    when  year(PeopleBirth)%12=6 then '虎'\n",
    "    when  year(PeopleBirth)%12=7 then '兔'\n",
    "    when  year(PeopleBirth)%12=8 then '龙'\n",
    "    else ''--都不符合就是null或其他了\n",
    "end 生肖 --这里没有用‘ ’注意\n",
    "\n",
    "/*简化优化代码,类似于switch case*/\n",
    "select *, \n",
    "case year(PeopleBirth)%12\n",
    "    when  4 then '鼠'\n",
    "    when  5 then '牛'\n",
    "    when  6 then '虎'\n",
    "    when  7 then '兔'\n",
    "    when  8 then '龙'\n",
    "    else ''\n",
    "end 生肖\n"
   ]
  },
  {
   "cell_type": "code",
   "execution_count": null,
   "metadata": {
    "vscode": {
     "languageId": "sql"
    }
   },
   "outputs": [],
   "source": [
    "/*****************5.模糊查询******************/\n",
    "/*******************************************\n",
    "%：可以代替0个或1个或多个字符\n",
    "_:可以代替有且仅有1个字符\n",
    "[]:内部填写数据范围代替\n",
    "[^]:内部填写数据范围排除\n",
    "********************************************/\n",
    "\n",
    "--like 代替原先的=\n",
    "/*查出姓名刘字开头的*/\n",
    "select * from People where PeopleName like '刘%'\n",
    "/*查出含有山的姓名*/\n",
    "select * from People where PeopleName like '%山%'--%可以为无\n",
    "/*查询电话*/\n",
    "select * from People where PeoplePhone like '138[3,6][4-9]%'\n",
    "select * from People where PeoplePhone like '136[3,5]%[^3,5]'\n",
    "\n",
    "--substring('abcde',3,1)从第三个字开始截取一个   /*这里不是从0开始数的*/\n",
    "substring('abcde',3,1)\n",
    "\n",
    "/*确定名字长度和姓氏查找*/\n",
    "select * from People where PeopleName like '刘__'\n",
    "select * from People where substring (PeopleName,1,1)='刘' and len(PeopleName)=3"
   ]
  },
  {
   "cell_type": "code",
   "execution_count": null,
   "metadata": {
    "vscode": {
     "languageId": "sql"
    }
   },
   "outputs": [],
   "source": [
    "/***********************6.聚合函数**************************/\n",
    "/*********************************************************\n",
    "count()求数量\n",
    "max()求最大值\n",
    "min()求最小值\n",
    "sum()求最总值\n",
    "avg()求最平均值\n",
    "**********************************************************/\n",
    "/*************************************\n",
    "round(23.5621，2)求保留两位数的值\n",
    "datediff(year,PeopleBrith,getdate)  PeopleBrith,getdate都取year来做差\n",
    "*************************************/\n",
    "\n",
    "/*求员工总人数*/\n",
    "select count(*) 人数 from People \n",
    "/*select * from People 表示打印出所有数据，select count(*) from People表示打印出所有数据的行数*/\n",
    "\n",
    "/*求最高工资*/\n",
    "select max(PeopleSalary) 最高工资 from People\n",
    "--索取工资这一列，再选取最高工资打印出来\n",
    "\n",
    "/*全部统计描述*/\n",
    "select count(*) 人数,max(*) 最高工资,min(*) 最少工资,sum(*) 工资总额,\n",
    "round(avg(PeopleSalary),2) 人均工资 from People  \n",
    "\n",
    "/*在表上多加一列年龄*/\n",
    "select *,year(getdate())-year(PeopleBirth) 年龄 from People\n",
    "select *,datediff(year,PeopleBrith,getdate) 年龄 from People\n",
    "\n",
    "/*将平均年龄，最大年龄，最小年龄，总人数打印成一行*/ \n",
    "select avg(year(getdate())-year(PeopleBirth)) , max(year(getdate())-year(PeopleBirth))\n",
    " min(year(getdate())-year(PeopleBirth)),count(*) from People\n",
    "\n",
    "\n",
    " /*查询月薪在10000以上的男员工最大年龄，最小年龄，平均年龄*/\n",
    " select '男' 性别,'薪水>=10000' 薪资情况 ,max(year(getdate())-year(PeopleBirth)),\n",
    " max(year(getdate())-year(PeopleBirth)),avg(year(getdate())-year(PeopleBirth))\n",
    " from People  where PeopleSex='男' and PeopleSalary>=10000\n"
   ]
  },
  {
   "cell_type": "code",
   "execution_count": null,
   "metadata": {
    "vscode": {
     "languageId": "sql"
    }
   },
   "outputs": [],
   "source": [
    "/***************7.分组查询***************/\n",
    "\n",
    "/***************************************\n",
    "union 查询结果合并，必须列数相同\n",
    "*************************************/\n",
    "\n",
    "/*查询北京和武汉两地的员工人数和总工资*/\n",
    "--方案一\n",
    "select '武汉' 地区, count(*),sum(PeopleSalary) from People wehre PeopleAdress ='武汉' \n",
    "union select '北京' 地区,count(*) ,sum(PeopleSalary) from People wehre PeopleAdress ='北京' \n",
    "/*这里的格式就是要显示的数据+列名; 字符串数据要加' ' ,列表名不需要*/\n",
    "\n",
    "--方案二:分组\n",
    "--group by \n",
    "/*group by 使用时候，因为是按组数显示函数的，不能出现一组多行的情况\n",
    "所以显示的列只能是group by 后面跟随的列名，或者用聚合函数将数据很成一行*/\n",
    "select PeopleAdress 地区,count(*),sum(PeopleSalary) from People group by PeopleAdress\n",
    "/*这里会分地区显示，但不能添加入PeopleName这些列，因为按地区来划分，这里每一行都代表多个人的统计结果，没办法显示个人*/\n",
    "--上面的案例在显示count（*）的时候，不能无脑的选择*，因为用行来计数，即使数据为空也会显示一行\n",
    "\n",
    "--where 添加在group前面 \n",
    "/*选择在1986年以后出生员工*/\n",
    "select PeopleAdress 地区,count(*),sum(PeopleSalary) from People\n",
    "where PeopleBirth<'1986-1-1' group by PeopleAdress \n",
    "\n",
    "--having 聚合函数，含有group by的语句中，where条件不能包含聚合函数\n",
    "/*地区分组查询总数大于2的地区*/\n",
    "select PeopleAdress 地区,count(*) 员工人数 from people group by PeopleAdress\n",
    "having count(*)>=2"
   ]
  },
  {
   "cell_type": "markdown",
   "metadata": {},
   "source": [
    "![Alt text](image.png)"
   ]
  },
  {
   "cell_type": "code",
   "execution_count": null,
   "metadata": {
    "vscode": {
     "languageId": "sql"
    }
   },
   "outputs": [],
   "source": [
    "/***********8.多表查询**************/\n",
    "\n",
    "--笛卡尔乘积合并\n",
    "/*把两个表用笛卡尔积合并*/\n",
    "select * from People,Department\n",
    "\n",
    "--自然连接/*通过两个表的rankID相同连接起来*/\n",
    "select * from People,[Rank]\n",
    "where People.RanktID=[Rank].RankID\n",
    "\n",
    "--内连接查询\n",
    "/*把两个表通过部门ID连接起来*/\n",
    "select * from  People inner join Department\n",
    "on  People.DepartmentId=Department.DepartmentId\n",
    "\n",
    "/*多个表连接一起*/\n",
    "select* \n",
    "from People inner join Department\n",
    "on  People.DepartmentId=Department.DepartmentId   --这里People会放在前面，后面接Department\n",
    "inner join Department on People.DepartmentId=[Rank].DepartmentId\n",
    "/*这里可以理解为一个表连接以后再通过这个表再连接一次，如此循环，把所有表连接起来后显示* ，即为全部*/\n",
    "/*这里，不符合主外键关系的数据不会被显示：就是在两个表之间没能找到匹配数据的不显示（无论在哪一个表）*/\n",
    "\n",
    "\n",
    "--外连接（左外连、右外连、全外连）\n",
    "/*********************\n",
    "left  jion ... on... 以左表为主表，左表全部显示，找不到匹配用null\n",
    "right jion ... on... 以右表为主表，左表全部显示，找不到匹配用null\n",
    "full  jion ... on... 两个表的信息都显示，没匹配到的用null\n",
    "**********************/\n",
    "\n",
    "--自连接（自己连自己）\n",
    "/*把自己定义为A、B表来连接*/\n",
    "select * from Department A inner jion Department B on A.ParentID=B.DeptID \n",
    "\n",
    "--嵌套查询\n",
    "/*查询选修了‘0109’和‘0111’课程的同学*/\n",
    "select stu_id from StudentGrade where Course_id = 'C0109'\n",
    "and stu_id in (select stu_id from StudentGrade where Course_id ='C0111')\n",
    "\n",
    "--交运算\n",
    "/*查询选修了‘0109’和‘0111’课程的同学*/\n",
    "select stu_id from StudentGrade where Course_id ='C0109'\n",
    "intersect \n",
    "select Stu_id from StudentGrade where Course_id ='C0111'\n",
    "\n",
    "/*当所需要的信息可以在一个表中找到，就是另一个表只是用来作为筛选条件的话，可以用叫运算或嵌套查询*/\n"
   ]
  },
  {
   "cell_type": "code",
   "execution_count": null,
   "metadata": {
    "vscode": {
     "languageId": "sql"
    }
   },
   "outputs": [],
   "source": [
    "/************9.综合查询***************/\n",
    "/*select DepartmentID 时候下面是多表连接可能会出现报错，因为在不同表的都出现DepartmentID，\n",
    "因此要用People.DepartmentID*/"
   ]
  }
 ],
 "metadata": {
  "language_info": {
   "name": "python"
  },
  "orig_nbformat": 4
 },
 "nbformat": 4,
 "nbformat_minor": 2
}
